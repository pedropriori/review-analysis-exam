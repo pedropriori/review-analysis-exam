{
 "cells": [
  {
   "cell_type": "code",
   "execution_count": null,
   "metadata": {},
   "outputs": [],
   "source": []
  },
  {
   "attachments": {},
   "cell_type": "markdown",
   "metadata": {},
   "source": [
    "## Estatística Inferencial\n",
    "\n",
    "Tirar conclusões e a partir de generalizações de dados amostrais.\n",
    "\n",
    "## Métodos de Amostragem\n",
    "\n",
    "### Amostra Aleatória Simples\n",
    "\n",
    "Seleção de elementos de forma aleatória e igualmente provável."
   ]
  }
 ],
 "metadata": {
  "language_info": {
   "name": "python"
  },
  "orig_nbformat": 4
 },
 "nbformat": 4,
 "nbformat_minor": 2
}
