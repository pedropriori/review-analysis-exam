{
 "cells": [
  {
   "attachments": {},
   "cell_type": "markdown",
   "metadata": {},
   "source": [
    "## Importações"
   ]
  },
  {
   "cell_type": "code",
   "execution_count": null,
   "metadata": {},
   "outputs": [],
   "source": [
    "import pandas as pd\n",
    "import seaborn as sns\n",
    "import numpy as np\n",
    "import matplotlib.pyplot as plt\n",
    "from sklearn.linear_model import LinearRegression\n",
    "from sklearn.metrics import r2_score, accuracy_score\n",
    "from sklearn.model_selection import train_test_split\n",
    "from sklearn.tree import DecisionTreeClassifier\n",
    "from sklearn.ensemble import RandomForestClassifier\n",
    "from sklearn.preprocessing import StandardScaler"
   ]
  },
  {
   "cell_type": "code",
   "execution_count": null,
   "metadata": {},
   "outputs": [],
   "source": [
    "#Fução besta apenas para mostrar o número em um quadrado bonitinho\n",
    "def show_box(value):\n",
    "  sns.set(font_scale=2)\n",
    "  sns.heatmap([[value]], annot=True)\n",
    "  sns.set(font_scale=1)"
   ]
  },
  {
   "attachments": {},
   "cell_type": "markdown",
   "metadata": {},
   "source": [
    "## Separar Previssores de Classes"
   ]
  },
  {
   "cell_type": "code",
   "execution_count": null,
   "metadata": {},
   "outputs": [],
   "source": [
    "X = np.array([1, 2, 3, 4, 5, 7, 9, 12, 14 ,16]).reshape(-1, 1)\n",
    "y = np.array([2, 4, 5, 4, 6, 9, 15, 16, 18, 20])"
   ]
  },
  {
   "cell_type": "code",
   "execution_count": null,
   "metadata": {},
   "outputs": [],
   "source": [
    "# Criar modelo\n",
    "\n",
    "regressor = LinearRegression()"
   ]
  },
  {
   "cell_type": "code",
   "execution_count": null,
   "metadata": {},
   "outputs": [],
   "source": [
    "# Treinar o modelo\n",
    "\n",
    "regressor.fit(X, y)"
   ]
  },
  {
   "cell_type": "code",
   "execution_count": null,
   "metadata": {},
   "outputs": [],
   "source": [
    "# Fazer Previsões\n",
    "\n",
    "y_pred = regressor.predict(X)"
   ]
  },
  {
   "cell_type": "code",
   "execution_count": null,
   "metadata": {},
   "outputs": [],
   "source": [
    "# Plotar o gráfico\n",
    "\n",
    "plt.figure(figsize=(14,8))\n",
    "plt.scatter(X, y, color='blue', label='Dados')\n",
    "plt.plot(X, y_pred, color='red', linewidth=2, label='Regressão Linear')\n",
    "plt.xlabel('X')\n",
    "plt.ylabel('y')\n",
    "plt.legend()\n",
    "plt.show()"
   ]
  },
  {
   "cell_type": "code",
   "execution_count": null,
   "metadata": {},
   "outputs": [],
   "source": [
    "# Fazendo novas previsões\n",
    "\n",
    "show_box(regressor.predict([[3.6]])[0])"
   ]
  },
  {
   "attachments": {},
   "cell_type": "markdown",
   "metadata": {},
   "source": [
    "## Linhas de ajuste\n",
    "    Underffiting (Subajustado) 👎 | Overffiting (Superajustado) 👎 | Melhor Ajuste 👍"
   ]
  },
  {
   "cell_type": "code",
   "execution_count": null,
   "metadata": {},
   "outputs": [],
   "source": [
    "plt.figure(figsize=(20,10))\n",
    "plt.subplot(2,2,1)\n",
    "plt.scatter(X, y)\n",
    "plt.plot(X, (y_pred + 5), color='red', linewidth=2)\n",
    "plt.title(\"Underfitting (Subajustado)\")\n",
    "plt.subplot(2,2,2)\n",
    "plt.scatter(X, y)\n",
    "plt.plot(X, y, color='red', linewidth=2)\n",
    "plt.title(\"Overfitting (Superajustado)\")\n",
    "plt.subplot(2,2,3)\n",
    "plt.scatter(X, y)\n",
    "plt.plot(X, y_pred, color='red', linewidth=2)\n",
    "plt.title(\"Melhor Ajuste!\")\n",
    "plt.show()"
   ]
  },
  {
   "cell_type": "code",
   "execution_count": null,
   "metadata": {},
   "outputs": [],
   "source": [
    "# Coeficiente de determinação\n",
    "\n",
    "r2 = r2_score(y, y_pred)\n",
    "show_box(r2)"
   ]
  },
  {
   "attachments": {},
   "cell_type": "markdown",
   "metadata": {},
   "source": [
    "## Vamos codar!"
   ]
  },
  {
   "cell_type": "code",
   "execution_count": null,
   "metadata": {},
   "outputs": [],
   "source": [
    "gorgeta = sns.load_dataset('tips')\n",
    "\n",
    "gorgeta.head()"
   ]
  },
  {
   "cell_type": "code",
   "execution_count": null,
   "metadata": {},
   "outputs": [],
   "source": [
    "#g_X = gorgeta['total_bill'].values.reshape(-1,1)\n",
    "\n",
    "#Variável Independente, Previsor, Atributo\n",
    "g_X = gorgeta[['total_bill']].values\n",
    "\n",
    "#Variável Dependente, Classe, Alvo\n",
    "g_y = gorgeta['tip'].values\n",
    "     "
   ]
  },
  {
   "cell_type": "code",
   "execution_count": null,
   "metadata": {},
   "outputs": [],
   "source": [
    "#Separar entre treino e teste\n",
    "treino_g_X, teste_g_X, treino_g_y, teste_g_y =  train_test_split(\n",
    "    g_X, g_y, test_size=0.2, random_state=42\n",
    ")"
   ]
  },
  {
   "cell_type": "code",
   "execution_count": null,
   "metadata": {},
   "outputs": [],
   "source": [
    "#Criar o modelo\n",
    "modelo_gorgeta = LinearRegression()"
   ]
  },
  {
   "cell_type": "code",
   "execution_count": null,
   "metadata": {},
   "outputs": [],
   "source": [
    "#Treinar o modelo\n",
    "modelo_gorgeta.fit(treino_g_X,treino_g_y)"
   ]
  },
  {
   "cell_type": "code",
   "execution_count": null,
   "metadata": {},
   "outputs": [],
   "source": [
    "gorgeta_predict = modelo_gorgeta.predict(teste_g_X)"
   ]
  },
  {
   "cell_type": "code",
   "execution_count": null,
   "metadata": {},
   "outputs": [],
   "source": [
    "# Plotar gráfico\n",
    "\n",
    "plt.scatter(teste_g_X,teste_g_y)\n",
    "plt.xlabel('Total da Conta')\n",
    "plt.ylabel('Gorgeta')\n",
    "plt.plot(teste_g_X, gorgeta_predict, color='red')"
   ]
  },
  {
   "cell_type": "code",
   "execution_count": null,
   "metadata": {},
   "outputs": [],
   "source": [
    "r2 = r2_score(teste_g_y, gorgeta_predict)\n",
    "show_box(r2)"
   ]
  },
  {
   "attachments": {},
   "cell_type": "markdown",
   "metadata": {},
   "source": [
    "## Árvores de Decisão\n",
    "\n",
    "    Utilizando a biblioteca Scikit Learn Podemos Fazer Predições utilizando árvores de decisão para isso devemos importar a biblioteca\n",
    "\n",
    "    Para predizer variáveis numéricas:\n",
    "        - from sklearn.tree import DecisionTreeRegressor\n",
    "\n",
    "    Para predizer variáveis categóricas:\n",
    "        - from sklearn.tree import DecisionTreeClassifier"
   ]
  },
  {
   "cell_type": "code",
   "execution_count": null,
   "metadata": {},
   "outputs": [],
   "source": [
    "diabetes = pd.read_csv('/content/drive/MyDrive/Aulas/Analise de Dados/Aula5SVG/diabetes.csv')"
   ]
  },
  {
   "cell_type": "code",
   "execution_count": null,
   "metadata": {},
   "outputs": [],
   "source": [
    "X = diabetes.drop('Outcome', axis=1)\n",
    "y = diabetes['Outcome']"
   ]
  },
  {
   "cell_type": "code",
   "execution_count": null,
   "metadata": {},
   "outputs": [],
   "source": [
    "X_train, X_test, y_train, y_test = train_test_split(\n",
    "    X,y, test_size=0.2, random_state=42\n",
    "    )"
   ]
  },
  {
   "cell_type": "code",
   "execution_count": null,
   "metadata": {},
   "outputs": [],
   "source": [
    "arvore = DecisionTreeClassifier()"
   ]
  },
  {
   "cell_type": "code",
   "execution_count": null,
   "metadata": {},
   "outputs": [],
   "source": [
    "arvore.fit(X_train,y_train)"
   ]
  },
  {
   "cell_type": "code",
   "execution_count": null,
   "metadata": {},
   "outputs": [],
   "source": [
    "y_pred = arvore.predict(X_test)"
   ]
  },
  {
   "cell_type": "code",
   "execution_count": null,
   "metadata": {},
   "outputs": [],
   "source": [
    "novo_df = pd.DataFrame(\n",
    "        [\n",
    "              {\n",
    "                'Pregnancies': 4,\n",
    "                'Glucose':\t40, #experimente subir esse parâmetro para 500\n",
    "                'BloodPressure': 76,\n",
    "                'SkinThickness': 30,\n",
    "                'Insulin': 80,\n",
    "                'BMI': 25,\n",
    "                'DiabetesPedigreeFunction': 0.242,\n",
    "                'Age'\t: 35\n",
    "            }\n",
    "\n",
    "        ]\n",
    "    )\n",
    "\n",
    "\n",
    "show_box(arvore.predict(novo_df)[0])"
   ]
  },
  {
   "cell_type": "code",
   "execution_count": null,
   "metadata": {},
   "outputs": [],
   "source": [
    "accuracy = accuracy_score(y_test, y_pred)\n",
    "\n",
    "show_box(accuracy)"
   ]
  },
  {
   "attachments": {},
   "cell_type": "markdown",
   "metadata": {},
   "source": [
    "## Florestas Aleatórias"
   ]
  },
  {
   "cell_type": "code",
   "execution_count": null,
   "metadata": {},
   "outputs": [],
   "source": [
    "floresta = RandomForestClassifier()"
   ]
  },
  {
   "cell_type": "code",
   "execution_count": null,
   "metadata": {},
   "outputs": [],
   "source": [
    "floresta.fit(X_train, y_train)"
   ]
  },
  {
   "cell_type": "code",
   "execution_count": null,
   "metadata": {},
   "outputs": [],
   "source": [
    "y_predict = floresta.predict(X_test)"
   ]
  },
  {
   "cell_type": "code",
   "execution_count": null,
   "metadata": {},
   "outputs": [],
   "source": [
    "accuracy_score(y_test, y_predict)"
   ]
  },
  {
   "attachments": {},
   "cell_type": "markdown",
   "metadata": {},
   "source": [
    "## Como melhorar a acurácia do meu modelo?\n",
    "    Algumas Dicas! ✌\n",
    "    \n",
    "    1. Faça uma boa análise exploratória, atenção a limpeza dos dados"
   ]
  },
  {
   "cell_type": "code",
   "execution_count": null,
   "metadata": {},
   "outputs": [],
   "source": [
    "gorgeta.info()"
   ]
  },
  {
   "cell_type": "code",
   "execution_count": null,
   "metadata": {},
   "outputs": [],
   "source": [
    "gorgeta = gorgeta.dropna()"
   ]
  },
  {
   "attachments": {},
   "cell_type": "markdown",
   "metadata": {},
   "source": [
    "    2. As máquinas lidão melhor com números."
   ]
  },
  {
   "cell_type": "code",
   "execution_count": null,
   "metadata": {},
   "outputs": [],
   "source": [
    "pd.get_dummies(gorgeta)"
   ]
  },
  {
   "attachments": {},
   "cell_type": "markdown",
   "metadata": {},
   "source": [
    "    3. Estabeleça Correlações para Entender seu Conjunto de Dados"
   ]
  },
  {
   "cell_type": "code",
   "execution_count": null,
   "metadata": {},
   "outputs": [],
   "source": [
    "gorgeta_dummies = pd.get_dummies(gorgeta)"
   ]
  },
  {
   "cell_type": "code",
   "execution_count": null,
   "metadata": {},
   "outputs": [],
   "source": [
    "plt.figure(figsize=(20,10))\n",
    "sns.heatmap(gorgeta_dummies.corr(), annot=True)"
   ]
  },
  {
   "attachments": {},
   "cell_type": "markdown",
   "metadata": {},
   "source": [
    "## Nível Hacker 💻"
   ]
  },
  {
   "cell_type": "code",
   "execution_count": null,
   "metadata": {},
   "outputs": [],
   "source": [
    "# Aplicar pré-processamento nos dados (normalização)\n",
    "scaler = StandardScaler()\n",
    "X = scaler.fit_transform(X)\n",
    "\n",
    "\n",
    "# Vamos recriar o modelo, ajustando hiperparâmetros\n",
    "model = DecisionTreeClassifier(max_depth=5, min_samples_split=3)\n",
    "\n",
    "# Treinamos o modelo novamente\n",
    "model.fit(X_train, y_train)\n",
    "\n",
    "# Fazer previsões\n",
    "y_pred = model.predict(X_test)\n",
    "\n",
    "# Calcular a acurácia do modelo\n",
    "accuracy = accuracy_score(y_test, y_pred)\n",
    "show_box(accuracy)"
   ]
  }
 ],
 "metadata": {
  "language_info": {
   "name": "python"
  },
  "orig_nbformat": 4
 },
 "nbformat": 4,
 "nbformat_minor": 2
}
